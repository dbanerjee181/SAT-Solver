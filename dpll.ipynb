{
  "cells": [
    {
      "cell_type": "markdown",
      "metadata": {
        "colab_type": "text",
        "id": "view-in-github"
      },
      "source": [
        "<a href=\"https://colab.research.google.com/github/dbanerjee181/SAT-Solver/blob/main/dpll.ipynb\" target=\"_parent\"><img src=\"https://colab.research.google.com/assets/colab-badge.svg\" alt=\"Open In Colab\"/></a>"
      ]
    },
    {
      "cell_type": "code",
      "execution_count": 166,
      "metadata": {
        "id": "4AZAHvXp_WhO"
      },
      "outputs": [],
      "source": [
        "# my code starts from here\n",
        "# Reading a file in the DIMACS format and\n",
        "# create the clause from it\n",
        "# The Dimacs format goes as follows\n",
        "# c means comment\n",
        "# p cnf indicates the number of variable\n",
        "# followed by number of clauses\n",
        "# function signature is\n",
        "# [clauses,clause_count,variable_count] = read_dimacs_file(filename)\n",
        "\n",
        "import re\n",
        "\n",
        "\n",
        "def read_dimacs_file(filename):\n",
        "    \"\"\"Reads a DIMACS file and returns the clauses and variable count.\"\"\"\n",
        "    clauses = []\n",
        "    variable_count = 0\n",
        "    clause_count = 0\n",
        "    with open(filename, 'r') as file:\n",
        "      for line in file:\n",
        "        line = line.strip()\n",
        "        if line.startswith(' ') or line.startswith('\\t') or (not line):\n",
        "          continue\n",
        "        if line.startswith('0'):\n",
        "          continue\n",
        "        if line.startswith('c') or line.startswith('%'):\n",
        "          continue\n",
        "        if(re.match(r'p cnf',line)):\n",
        "          variable_count = int(line.split()[2])\n",
        "          clause_count = int(line.split()[3])\n",
        "        else:\n",
        "          line.strip()\n",
        "          clause_list = [int(x) for x in line.split()[:-1]]\n",
        "          clauses.append(clause_list)\n",
        "    return clauses,variable_count,clause_count\n"
      ]
    },
    {
      "cell_type": "code",
      "execution_count": 167,
      "metadata": {
        "id": "f_P7B6wviZtG"
      },
      "outputs": [],
      "source": [
        "# Given the clauses and assignment this function checks if\n",
        "# it there is any unit clause and then updates the assignment\n",
        "# vector\n",
        "# function signature\n",
        "# check_unit_clause(clauses,assignment)\n",
        "# This updates the assignment\n",
        "# dictionary in place\n",
        "\n",
        "\n",
        "def check_unit_clause(clauses, assignment):\n",
        "  \"\"\"Checks for unit clauses and updates the assignment vector.\"\"\"\n",
        "  for clause in clauses:\n",
        "    if len(clause) == 1:\n",
        "      variable = abs(clause[0])\n",
        "      if clause[0] > 0:\n",
        "        assignment[variable] = True\n",
        "        clauses.remove(clause)\n",
        "      else:\n",
        "        assignment[variable] = False\n",
        "        clauses.remove(clause)\n",
        "  return clauses, assignment\n",
        "\n"
      ]
    },
    {
      "cell_type": "code",
      "execution_count": 168,
      "metadata": {
        "colab": {
          "base_uri": "https://localhost:8080/"
        },
        "id": "QYg2VJzKqlXf",
        "outputId": "a03979cd-8039-4396-f872-a0cf55537cac"
      },
      "outputs": [
        {
          "name": "stdout",
          "output_type": "stream",
          "text": [
            "[[3], [-2, -3]]\n"
          ]
        }
      ],
      "source": [
        "#Simplify the clause based on assignment\n",
        "#Checking procedure example\n",
        "\n",
        "def simplify(clauses, assignment):\n",
        "  new_clauses = []\n",
        "  for clause in clauses:\n",
        "    new_clause = []\n",
        "    satisfied = False\n",
        "    for literal in clause:\n",
        "      variable = abs(literal)\n",
        "      if variable in assignment:\n",
        "        if (literal > 0 and assignment[variable]) or \\\n",
        "           (literal < 0 and not assignment[variable]):\n",
        "          satisfied = True\n",
        "          break  # Clause is satisfied\n",
        "        elif (literal > 0 and not assignment[variable]) or \\\n",
        "             (literal < 0 and assignment[variable]):\n",
        "          continue #literal is false\n",
        "\n",
        "      else:\n",
        "        new_clause.append(literal)\n",
        "        satisfied = False\n",
        "\n",
        "    if not satisfied:\n",
        "        new_clauses.append(new_clause)\n",
        "\n",
        "  return new_clauses\n",
        "\n",
        "clauses = [[1, 2], [-1, 3], [-2, -3]]\n",
        "assignment = {1: True}\n",
        "new_clauses = simplify(clauses, assignment)\n",
        "print(new_clauses)"
      ]
    },
    {
      "cell_type": "code",
      "execution_count": 169,
      "metadata": {
        "colab": {
          "base_uri": "https://localhost:8080/"
        },
        "id": "uHrU017-KqoC",
        "outputId": "62aa9341-4bec-4725-bf68-2c27650976b1"
      },
      "outputs": [
        {
          "data": {
            "text/plain": [
              "{-3: 1, 4: 2, 5: 1, 7: 1}"
            ]
          },
          "execution_count": 169,
          "metadata": {},
          "output_type": "execute_result"
        }
      ],
      "source": [
        "def find_pure_literal(clauses, assignment):\n",
        "    literals = {}\n",
        "    mono_literals = {}\n",
        "    for clause in clauses:\n",
        "        for literal in clause:\n",
        "          variable = abs(literal)\n",
        "          if variable not in assignment:\n",
        "            if literal not in literals:\n",
        "              literals[literal] = 0\n",
        "            literals[literal]+=1\n",
        "    for literal in literals:\n",
        "      if -literal not in literals:\n",
        "        mono_literals[literal] = literals[literal]\n",
        "\n",
        "    return mono_literals\n",
        "\n",
        "clauses = [[1, 2], [-1], [-3], [4], [4,5], [7,-1]]\n",
        "assignment = {1: True, 2: True}\n",
        "find_pure_literal(clauses, assignment)"
      ]
    },
    {
      "cell_type": "code",
      "execution_count": 170,
      "metadata": {
        "colab": {
          "base_uri": "https://localhost:8080/"
        },
        "id": "_8jgRz1mQbH4",
        "outputId": "7216f518-4206-4e9f-d2c1-5f87aad34499"
      },
      "outputs": [
        {
          "name": "stdout",
          "output_type": "stream",
          "text": [
            "First literal: 2\n"
          ]
        }
      ],
      "source": [
        "def unassigned_literal(clauses):\n",
        "    literals = {}\n",
        "    for clause in clauses:\n",
        "        for literal in clause:\n",
        "          variable = abs(literal)\n",
        "          if variable not in literals:\n",
        "            literals[variable] = [0,0]\n",
        "          if literal > 0 :\n",
        "            literals[variable] = [literals[variable][0]+1,literals[variable][1]]\n",
        "          elif literal < 0:\n",
        "            literals[variable] = [literals[variable][0],literals[variable][1]+1]\n",
        "\n",
        "    sorted_literals = dict(sorted(literals.items(), key=lambda item: sum(item[1]), reverse=True))\n",
        "    return sorted_literals\n",
        "\n",
        "\n",
        "\n",
        "clauses = [[1, 2], [3,-2], [1,-3],[-2],[-2],[-2]]\n",
        "assignment = {1: True}\n",
        "stats = unassigned_literal(clauses)\n",
        "# Accessing the first element\n",
        "first_literal = next(iter(stats))\n",
        "print(\"First literal:\", first_literal)"
      ]
    },
    {
      "cell_type": "code",
      "execution_count": null,
      "metadata": {
        "id": "M5CwXPa4ZMPX"
      },
      "outputs": [],
      "source": []
    },
    {
      "cell_type": "code",
      "execution_count": null,
      "metadata": {
        "id": "Ge4rP7IYwV8-"
      },
      "outputs": [],
      "source": []
    },
    {
      "cell_type": "code",
      "execution_count": 171,
      "metadata": {
        "colab": {
          "base_uri": "https://localhost:8080/"
        },
        "id": "qZA26nrlQhhk",
        "outputId": "d6bd656f-4527-4b81-8043-44567c7a714f"
      },
      "outputs": [
        {
          "name": "stdout",
          "output_type": "stream",
          "text": [
            "[[1, -5, 9], [-2, 10, -15], [3, -8, 20], [-4, 7, -18], [5, -11, 14], [-6, 9, -21], [7, -13, 22], [-8, 15, -26], [9, -16, 27], [-10, 18, -28], [11, -19, 29], [-12, 20, -30], [13, -21, 1], [-14, 22, -2], [15, -23, 3], [-16, 24, -4], [17, -25, 5], [-18, 26, -6], [19, -27, 7], [-20, 28, -8], [21, -29, 9], [-22, 30, -10], [23, -1, 11], [-24, 2, -12], [25, -3, 13], [-26, 4, -14], [27, -5, 15], [-28, 6, -16], [29, -7, 17], [-30, 8, -18], [1, 9, 19], [-2, -10, 20], [3, 11, -21], [-4, -12, 22], [5, 13, -23], [-6, -14, 24], [7, 15, -25], [-8, -16, 26], [9, 17, -27], [-10, -18, 28], [11, 19, -29], [-12, -20, 30], [13, 21, -1], [-14, -22, 2], [15, 23, -3], [-16, -24, 4], [17, 25, -5], [-18, -26, 6], [19, 27, -7], [-20, -28, 8], [21, 29, -9], [-22, -30, 10], [23, 1, -11], [-24, -2, 12], [25, 3, -13], [-26, -4, 14], [27, 5, -15], [-28, -6, 16], [29, 7, -17], [-30, -8, 18], [1, -19, 20], [-2, 21, -22], [3, -23, 24], [-4, 25, -26], [5, -27, 28], [-6, 29, -30], [7, -1, 2], [-8, 3, -4], [9, -5, 6], [-10, 7, -8], [11, -9, 10], [-12, 13, -14], [15, -16, 17], [-18, 19, -20], [21, -22, 23], [-24, 25, -26], [27, -28, 29], [-30, 1, -2], [3, -4, 5], [-6, 7, -8], [9, -10, 11], [-12, 13, -14], [15, -16, 17], [-18, 19, -20], [21, -22, 23], [-24, 25, -26], [27, -28, 29], [-30, 1, -3]]\n",
            "RESULT: SAT\n",
            "[(1, True), (2, False), (3, True), (4, False), (5, True), (6, False), (7, True), (8, False), (9, True), (10, False), (11, True), (12, False), (13, True), (14, False), (15, False), (16, False), (17, True), (19, True), (20, False), (21, True), (22, False), (23, True), (24, False), (25, True), (26, False), (27, True), (28, False), (29, True), (30, False)]\n",
            "Time taken: 0.004379749298095703\n",
            "Calls of DPLL: 8\n"
          ]
        }
      ],
      "source": [
        "import time\n",
        "\n",
        "def dpll(clauses, assignment={}, iterations=1):\n",
        "  pure_literals = find_pure_literal(clauses, assignment)\n",
        "  for literal in pure_literals:\n",
        "    variable = abs(literal)\n",
        "    if literal > 0:\n",
        "      assignment[variable] = True\n",
        "    else:\n",
        "      assignment[variable] = False\n",
        "  new_clauses = simplify(clauses, assignment)\n",
        "  # Check if all clauses are satisfied\n",
        "  if not new_clauses:\n",
        "    return assignment, iterations\n",
        "   # Check if any clause is empty (unsatisfiable)\n",
        "  if any(not clause for clause in new_clauses):\n",
        "    return None\n",
        "\n",
        "  stats = unassigned_literal(new_clauses)\n",
        "  if not stats:\n",
        "    return assignment, iterations\n",
        "  priority_var = next(iter(stats))\n",
        "  new_assignment = assignment.copy()\n",
        "  if (stats[priority_var][0] >=  stats[priority_var][1]):\n",
        "    new_assignment[priority_var] = True\n",
        "  elif (stats[priority_var][0] < stats[priority_var][1]):\n",
        "    new_assignment[priority_var] = False\n",
        "\n",
        "  new_clauses_true = simplify(new_clauses, new_assignment)\n",
        "  updated_clauses,unit_assignment = check_unit_clause(new_clauses_true, new_assignment)\n",
        "  result_true = dpll(updated_clauses, unit_assignment, iterations + 1)\n",
        "  if result_true:\n",
        "    return result_true\n",
        "\n",
        "  new_assignment[priority_var] = not new_assignment[priority_var]\n",
        "  new_clauses_false = simplify(new_clauses, new_assignment)\n",
        "  updated_clauses, unit_assignment = check_unit_clause(new_clauses_false, new_assignment)\n",
        "  result_false = dpll(updated_clauses, unit_assignment, iterations + 1)\n",
        "  if result_false:\n",
        "    return result_false\n",
        "\n",
        "  return None\n",
        "\n",
        "start_time = time.time()  # Record the start time\n",
        "clauses,variable_count,clause_count  = read_dimacs_file(\"satTestFile.cnf\")\n",
        "print(clauses)\n",
        "#clauses = [[13, 15, -5], [5, -13, -9], [-2, -13, -9], [-16, 18, 19], [-6, 14, 5], [-7, 4, 11], [-15, 19, 14],[20,-3,-19],[-20,-9,-11],[2,-6,-10],[13,-6,3],[3,19,10],[15,20,13]]\n",
        "assignment = {}\n",
        "iterations = 0\n",
        "result, iterations= dpll(clauses, assignment, iterations)\n",
        "\n",
        "if not result:\n",
        "  print(\"RESULT: UNSAT\")\n",
        "else:\n",
        "  print(\"RESULT: SAT\")\n",
        "  print(sorted(result.items()))\n",
        "  print(\"Time taken:\", time.time() - start_time)\n",
        "  print(\"Calls of DPLL:\", iterations)"
      ]
    },
    {
      "cell_type": "code",
      "execution_count": 172,
      "metadata": {
        "id": "ZxkZnFHAfE_7"
      },
      "outputs": [],
      "source": [
        "# implement Stalmarck reduction in the\n",
        "# preprocessing of CNF formulae"
      ]
    },
    {
      "cell_type": "code",
      "execution_count": 173,
      "metadata": {
        "id": "wB-nzBsThROV"
      },
      "outputs": [],
      "source": [
        "def stalmarck(clauses, assignment={}):\n",
        "    \"\"\"\n",
        "    Stalmarck's satisfiability algorithm.\n",
        "\n",
        "    Args:\n",
        "      clauses: A list of clauses, where each clause is a list of literals.\n",
        "          A literal is a positive or negative integer representing a variable.\n",
        "      assignment: A dictionary mapping variables to their truth values (True or False).\n",
        "\n",
        "    Returns:\n",
        "        A dictionary representing a satisfying assignment if one exists, otherwise None.\n",
        "    \"\"\"\n",
        "\n",
        "    # Check for empty clause list (all clauses are satisfied)\n",
        "    if not clauses:\n",
        "        return assignment\n",
        "\n",
        "    # Check for an empty clause (unsatisfiable)\n",
        "    for clause in clauses:\n",
        "        if not clause:\n",
        "            return None\n",
        "\n",
        "    # Rule 1: Trivial truth assignment\n",
        "    unit_clause = next((clause for clause in clauses if len(clause) == 1), None)\n",
        "    if unit_clause:\n",
        "        literal = unit_clause[0]\n",
        "        variable = abs(literal)\n",
        "        value = literal > 0\n",
        "        new_assignment = assignment.copy()\n",
        "        new_assignment[variable] = value\n",
        "        new_clauses = simplify(clauses, new_assignment)\n",
        "        result = stalmarck(new_clauses, new_assignment)\n",
        "        if result:\n",
        "            return result\n",
        "        else:\n",
        "            return None\n",
        "\n",
        "    # Rule 2: Dilemma Rule\n",
        "    # Find a variable 'v' appearing in both positive and negative forms\n",
        "    literals = set()\n",
        "    for clause in clauses:\n",
        "        literals.update(clause)\n",
        "    for literal in literals:\n",
        "        if -literal in literals:\n",
        "            variable = abs(literal)\n",
        "            # Assume 'v' is True\n",
        "            new_assignment_true = assignment.copy()\n",
        "            new_assignment_true[variable] = True\n",
        "            new_clauses_true = simplify(clauses, new_assignment_true)\n",
        "            result_true = stalmarck(new_clauses_true, new_assignment_true)\n",
        "            if result_true:\n",
        "                return result_true\n",
        "\n",
        "            # Assume 'v' is False\n",
        "            new_assignment_false = assignment.copy()\n",
        "            new_assignment_false[variable] = False\n",
        "            new_clauses_false = simplify(clauses, new_assignment_false)\n",
        "            result_false = stalmarck(new_clauses_false, new_assignment_false)\n",
        "            if result_false:\n",
        "                return result_false\n",
        "\n",
        "            return None  # Unsatisfiable if both branches fail\n",
        "\n",
        "    return None  # Unsatisfiable if no further rules apply"
      ]
    },
    {
      "cell_type": "code",
      "execution_count": 174,
      "metadata": {
        "id": "rbca-eWpeTFB"
      },
      "outputs": [],
      "source": [
        "def main():\n",
        "  [clauses,variable_count,clause_count] = read_dimacs_file(\"uf20-0999.cnf\")\n",
        "  print(f\"The number of variables are {variable_count},The number of clauses are {clause_count}\")\n",
        "  print(clauses)\n",
        "  assignment = stalmarck(clauses)\n",
        "  print(assignment)\n",
        "  clauses = [[1, 2],[2],[-1, 3]]\n",
        "  assignment = {1: True, 3: True}\n",
        "  check_unit_clause(clauses, assignment)\n",
        "  print(assignment)\n"
      ]
    },
    {
      "cell_type": "code",
      "execution_count": 175,
      "metadata": {
        "colab": {
          "base_uri": "https://localhost:8080/"
        },
        "id": "IEYXRfmkepIS",
        "outputId": "e7b13d82-1abd-4d72-d7b9-5cb179eb4a77"
      },
      "outputs": [
        {
          "name": "stdout",
          "output_type": "stream",
          "text": [
            "The number of variables are 20,The number of clauses are 91\n",
            "[[13, 15, -5], [5, -13, -9], [-2, -13, -9], [-16, 18, 19], [-6, 14, 5], [-7, 4, 11], [-15, 19, 14], [20, -3, -19], [-20, -9, -11], [2, -6, -10], [13, -6, 3], [9, 11, -8], [-9, -19, 7], [-17, -20, 12], [-17, 4, -16], [20, -5, -7], [-10, -4, 11], [5, 9, -1], [17, -1, 19], [-1, -2, -6], [15, 17, -19], [15, -14, 18], [-16, -15, 19], [-16, 6, -15], [-20, 5, -3], [-10, 20, 16], [-6, 17, -7], [7, 2, -16], [-18, 5, 13], [-17, 13, 12], [-14, -6, -12], [14, -2, -9], [3, -14, -17], [-1, 18, -6], [14, -18, -8], [7, -3, -19], [-18, -20, -5], [20, 12, 15], [5, 3, 15], [16, -6, -18], [8, 5, -18], [4, 6, -15], [6, 3, 4], [9, -11, -12], [12, 9, 5], [4, 18, -8], [16, -8, 1], [3, 1, -7], [15, -9, -4], [-5, -3, -10], [-16, -12, -19], [12, -3, -16], [4, -18, -6], [5, -7, -3], [15, -1, -5], [-16, 9, 10], [-9, 17, 5], [-2, 4, 10], [16, 9, -11], [1, -7, -15], [-20, -8, 3], [3, 9, 17], [-11, 9, 6], [8, 16, 19], [2, 8, -3], [-5, 15, 18], [1, 16, 2], [-18, -11, -9], [5, 7, -12], [-13, -10, 20], [11, -20, 1], [-13, 19, 2], [17, -3, 15], [-2, 4, 13], [5, -19, 12], [-12, -5, 7], [19, -4, 2], [-5, -14, 10], [-6, -1, -12], [20, -18, -11], [14, 16, 4], [5, 12, -10], [10, 3, -6], [-15, -3, 5], [12, -13, -1], [20, -9, -8], [-10, 18, -6], [16, 12, -18], [-14, 15, -2], [3, 19, 10], [15, 20, 13]]\n",
            "{1: True, 2: True, 6: False, 3: True, 4: True, 5: True, 10: False, 15: True, 16: False, 14: False, 19: True, 20: True, 9: False, 7: True, 18: False, 11: False, 8: False, 13: True, 12: True}\n",
            "{1: True, 3: True, 2: True}\n"
          ]
        }
      ],
      "source": [
        "if __name__ == \"__main__\":\n",
        "  main()"
      ]
    }
  ],
  "metadata": {
    "colab": {
      "authorship_tag": "ABX9TyNzhLQfbhhnHovzW+TJKQbu",
      "include_colab_link": true,
      "provenance": []
    },
    "kernelspec": {
      "display_name": "Python 3",
      "name": "python3"
    },
    "language_info": {
      "codemirror_mode": {
        "name": "ipython",
        "version": 3
      },
      "file_extension": ".py",
      "mimetype": "text/x-python",
      "name": "python",
      "nbconvert_exporter": "python",
      "pygments_lexer": "ipython3",
      "version": "3.13.2"
    }
  },
  "nbformat": 4,
  "nbformat_minor": 0
}
