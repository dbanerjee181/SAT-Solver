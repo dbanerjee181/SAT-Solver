{
  "cells": [
    {
      "cell_type": "markdown",
      "metadata": {
        "id": "view-in-github",
        "colab_type": "text"
      },
      "source": [
        "<a href=\"https://colab.research.google.com/github/dbanerjee181/SAT-Solver/blob/main/dpll.ipynb\" target=\"_parent\"><img src=\"https://colab.research.google.com/assets/colab-badge.svg\" alt=\"Open In Colab\"/></a>"
      ]
    },
    {
      "cell_type": "code",
      "execution_count": 1,
      "metadata": {
        "id": "4AZAHvXp_WhO"
      },
      "outputs": [],
      "source": [
        "# my code starts from here\n",
        "# Reading a file in the DIMACS format and\n",
        "# create the clause from it\n",
        "# The Dimacs format goes as follows\n",
        "# c means comment\n",
        "# p cnf indicates the number of variable\n",
        "# followed by number of clauses\n",
        "# function signature is\n",
        "# [clauses,clause_count,variable_count] = read_dimacs_file(filename)\n",
        "\n",
        "import re\n",
        "\n",
        "\n",
        "def read_dimacs_file(filename):\n",
        "    \"\"\"Reads a DIMACS file and returns the clauses and variable count.\"\"\"\n",
        "    clauses = []\n",
        "    variable_count = 0\n",
        "    clause_count = 0\n",
        "    with open(filename, 'r') as file:\n",
        "      for line in file:\n",
        "        line = line.strip()\n",
        "        if line.startswith(' ') or line.startswith('\\t') or (not line):\n",
        "          continue\n",
        "        if line.startswith('0'):\n",
        "          continue\n",
        "        if line.startswith('c') or line.startswith('%'):\n",
        "          continue\n",
        "        if(re.match(r'p cnf',line)):\n",
        "          variable_count = int(line.split()[2])\n",
        "          clause_count = int(line.split()[3])\n",
        "        else:\n",
        "          line.strip()\n",
        "          clause_list = [int(x) for x in line.split()[:-1]]\n",
        "          clauses.append(clause_list)\n",
        "    return clauses,variable_count,clause_count\n"
      ]
    },
    {
      "cell_type": "code",
      "source": [
        "from os import read\n",
        "import re\n",
        "def read_dimacs_file_dict(filename):\n",
        "  with open(filename, 'r') as file:\n",
        "    clauses = {}\n",
        "    variable_count = 0\n",
        "    clause_counter = 0\n",
        "    for line in file:\n",
        "      line = line.strip()\n",
        "      if line.startswith(' ') or line.startswith('\\t') or (not line):\n",
        "        continue\n",
        "      if line.startswith('0'):\n",
        "        continue\n",
        "      if line.startswith('c') or line.startswith('%'):\n",
        "        continue\n",
        "      if(re.match(r'p cnf',line)):\n",
        "        variable_count = int(line.split()[2])\n",
        "        clause_count = int(line.split()[3])\n",
        "\n",
        "      else:\n",
        "        line.strip()\n",
        "        clause_list = [int(x) for x in line.split()[:-1]]\n",
        "        clauses[clause_counter] = clause_list\n",
        "        clause_counter+=1\n",
        "  return clauses,variable_count,clause_count\n",
        "\n",
        "clauses,var_c,clas_c = read_dimacs_file_dict(\"satTestFile.cnf\")\n",
        "print(clauses[0])"
      ],
      "metadata": {
        "colab": {
          "base_uri": "https://localhost:8080/",
          "height": 315
        },
        "id": "EFQKL4Oykw12",
        "outputId": "10d20af8-60f5-44aa-af70-72e246180aa7"
      },
      "execution_count": 2,
      "outputs": [
        {
          "output_type": "error",
          "ename": "FileNotFoundError",
          "evalue": "[Errno 2] No such file or directory: 'satTestFile.cnf'",
          "traceback": [
            "\u001b[0;31m---------------------------------------------------------------------------\u001b[0m",
            "\u001b[0;31mFileNotFoundError\u001b[0m                         Traceback (most recent call last)",
            "\u001b[0;32m<ipython-input-2-3d9b78692211>\u001b[0m in \u001b[0;36m<cell line: 0>\u001b[0;34m()\u001b[0m\n\u001b[1;32m     25\u001b[0m   \u001b[0;32mreturn\u001b[0m \u001b[0mclauses\u001b[0m\u001b[0;34m,\u001b[0m\u001b[0mvariable_count\u001b[0m\u001b[0;34m,\u001b[0m\u001b[0mclause_count\u001b[0m\u001b[0;34m\u001b[0m\u001b[0;34m\u001b[0m\u001b[0m\n\u001b[1;32m     26\u001b[0m \u001b[0;34m\u001b[0m\u001b[0m\n\u001b[0;32m---> 27\u001b[0;31m \u001b[0mclauses\u001b[0m\u001b[0;34m,\u001b[0m\u001b[0mvar_c\u001b[0m\u001b[0;34m,\u001b[0m\u001b[0mclas_c\u001b[0m \u001b[0;34m=\u001b[0m \u001b[0mread_dimacs_file_dict\u001b[0m\u001b[0;34m(\u001b[0m\u001b[0;34m\"satTestFile.cnf\"\u001b[0m\u001b[0;34m)\u001b[0m\u001b[0;34m\u001b[0m\u001b[0;34m\u001b[0m\u001b[0m\n\u001b[0m\u001b[1;32m     28\u001b[0m \u001b[0mprint\u001b[0m\u001b[0;34m(\u001b[0m\u001b[0mclauses\u001b[0m\u001b[0;34m[\u001b[0m\u001b[0;36m0\u001b[0m\u001b[0;34m]\u001b[0m\u001b[0;34m)\u001b[0m\u001b[0;34m\u001b[0m\u001b[0;34m\u001b[0m\u001b[0m\n",
            "\u001b[0;32m<ipython-input-2-3d9b78692211>\u001b[0m in \u001b[0;36mread_dimacs_file_dict\u001b[0;34m(filename)\u001b[0m\n\u001b[1;32m      2\u001b[0m \u001b[0;32mimport\u001b[0m \u001b[0mre\u001b[0m\u001b[0;34m\u001b[0m\u001b[0;34m\u001b[0m\u001b[0m\n\u001b[1;32m      3\u001b[0m \u001b[0;32mdef\u001b[0m \u001b[0mread_dimacs_file_dict\u001b[0m\u001b[0;34m(\u001b[0m\u001b[0mfilename\u001b[0m\u001b[0;34m)\u001b[0m\u001b[0;34m:\u001b[0m\u001b[0;34m\u001b[0m\u001b[0;34m\u001b[0m\u001b[0m\n\u001b[0;32m----> 4\u001b[0;31m   \u001b[0;32mwith\u001b[0m \u001b[0mopen\u001b[0m\u001b[0;34m(\u001b[0m\u001b[0mfilename\u001b[0m\u001b[0;34m,\u001b[0m \u001b[0;34m'r'\u001b[0m\u001b[0;34m)\u001b[0m \u001b[0;32mas\u001b[0m \u001b[0mfile\u001b[0m\u001b[0;34m:\u001b[0m\u001b[0;34m\u001b[0m\u001b[0;34m\u001b[0m\u001b[0m\n\u001b[0m\u001b[1;32m      5\u001b[0m     \u001b[0mclauses\u001b[0m \u001b[0;34m=\u001b[0m \u001b[0;34m{\u001b[0m\u001b[0;34m}\u001b[0m\u001b[0;34m\u001b[0m\u001b[0;34m\u001b[0m\u001b[0m\n\u001b[1;32m      6\u001b[0m     \u001b[0mvariable_count\u001b[0m \u001b[0;34m=\u001b[0m \u001b[0;36m0\u001b[0m\u001b[0;34m\u001b[0m\u001b[0;34m\u001b[0m\u001b[0m\n",
            "\u001b[0;31mFileNotFoundError\u001b[0m: [Errno 2] No such file or directory: 'satTestFile.cnf'"
          ]
        }
      ]
    },
    {
      "cell_type": "code",
      "execution_count": 3,
      "metadata": {
        "id": "f_P7B6wviZtG"
      },
      "outputs": [],
      "source": [
        "# Given the clauses and assignment this function checks if\n",
        "# it there is any unit clause and then updates the assignment\n",
        "# vector\n",
        "# function signature\n",
        "# check_unit_clause(clauses,assignment)\n",
        "# This updates the assignment\n",
        "# dictionary in place\n",
        "\n",
        "\n",
        "def check_unit_clause(clauses, assignment):\n",
        "  \"\"\"Checks for unit clauses and updates the assignment vector.\"\"\"\n",
        "\n",
        "  for clause in clauses:\n",
        "    if len(clause) == 1:\n",
        "      variable = abs(clause[0])\n",
        "      if clause[0] > 0:\n",
        "        assignment[variable] = True\n",
        "        clauses.remove(clause)\n",
        "      else:\n",
        "        assignment[variable] = False\n",
        "        clauses.remove(clause)\n",
        "  return clauses, assignment\n",
        "\n"
      ]
    },
    {
      "cell_type": "code",
      "source": [
        "def check_unit_clause_dict(clauses):\n",
        "  \"\"\"Checks for unit clauses.\"\"\"\n",
        "  unit_var = []\n",
        "  clauses_copy = clauses.copy()\n",
        "  for key,clause in clauses_copy.items():\n",
        "    if len(clause) == 1:\n",
        "      variable = abs(clause[0])\n",
        "      value = True if clause[0] > 0 else False\n",
        "      unit_var.append((key,variable,value))\n",
        "      del clauses[key]\n",
        "  return unit_var ,clauses\n",
        "\n",
        "original_clauses = {0: [1],1: [2,4],2: [-1],3:[-3],4:[3]}\n",
        "unit_clause,clauses = check_unit_clause_dict(original_clauses)\n",
        "print(unit_clause)\n",
        "print(clauses)\n",
        "\n",
        "key,variable,value = unit_clause[0]\n",
        "print(key)\n",
        "print(variable)\n",
        "print(value)"
      ],
      "metadata": {
        "colab": {
          "base_uri": "https://localhost:8080/"
        },
        "id": "QCtP2JV2uqjA",
        "outputId": "7e6a3969-08d2-4a0f-f3e6-032217a5311c"
      },
      "execution_count": 24,
      "outputs": [
        {
          "output_type": "stream",
          "name": "stdout",
          "text": [
            "[(0, 1, True), (2, 1, False), (3, 3, False), (4, 3, True)]\n",
            "{1: [2, 4]}\n",
            "0\n",
            "1\n",
            "True\n"
          ]
        }
      ]
    },
    {
      "cell_type": "code",
      "source": [
        "def conflict_analyze(original_clauses, unit_clause):\n",
        "  \"\"\"Checks for conflict and updates the assignment vector.\"\"\"\n",
        "  variables = [item[1] for item in unit_clause]\n",
        "  keys = [item[0] for item in unit_clause]\n",
        "  values = [item[2] for item in unit_clause ]\n",
        "  duplicates_var = len(variables) != len(set(variables))\n",
        "  conflict = []\n",
        "  conflict_var = []\n",
        "  count1 = 0\n",
        "  if(duplicates_var):\n",
        "    for var in variables:\n",
        "      count1 +=1\n",
        "      count2 = 0\n",
        "      for var2 in variables:\n",
        "        count2 +=1\n",
        "\n",
        "        if(var == var2 and keys[count1-1]<keys[count2-1]):\n",
        "          key1 = keys[count1-1]\n",
        "          key2 = keys[count2-1]\n",
        "          orig1 = original_clauses[key1]\n",
        "          orig2 = original_clauses[key2]\n",
        "\n",
        "          orig1 = [x for x in orig1 if abs(x) != var]\n",
        "          orig2 = [x for x in orig2 if abs(x) != var]\n",
        "\n",
        "          combined_list =list(dict.fromkeys(orig1 + orig2))\n",
        "          conflict.append((key1,key2,combined_list))\n",
        "          conflict_var.append(var)\n",
        "  return conflict,conflict_var\n",
        "\n",
        "original_clauses = {0: [1,-5,6],1: [2,5,6],2: [-1,6,7],3:[-3,7,-8],4:[3,9]}\n",
        "conflict,conflict_var = conflict_analyze(original_clauses,unit_clause)\n",
        "print(conflict)\n",
        "print(conflict_var)"
      ],
      "metadata": {
        "colab": {
          "base_uri": "https://localhost:8080/"
        },
        "id": "z6csU0fKzEi7",
        "outputId": "3a02ddd8-144e-4a26-96fc-12ec7fb297b5"
      },
      "execution_count": 25,
      "outputs": [
        {
          "output_type": "stream",
          "name": "stdout",
          "text": [
            "[(0, 2, [-5, 6, 7]), (3, 4, [7, -8, 9])]\n",
            "[1, 3]\n"
          ]
        }
      ]
    },
    {
      "cell_type": "code",
      "source": [
        "unit_clause = [(0, 1, True), (1, 2, True), (2, 1, False), (3, 3, False), (4, 3, True)]\n",
        "def remove_conflict_var(unit_clause,conflict_var):\n",
        "  return [(key,variable,value) for key, variable, value in unit_clause if variable not in conflict_var]\n",
        "\n",
        "assignment = {10:True}\n",
        "unit_clause = remove_conflict_var(unit_clause,conflict_var)\n",
        "print(unit_clause)"
      ],
      "metadata": {
        "colab": {
          "base_uri": "https://localhost:8080/"
        },
        "id": "Y9fQ81PeQthT",
        "outputId": "d6b756b4-38d3-4c89-e6e2-95ab4a959fe2"
      },
      "execution_count": 12,
      "outputs": [
        {
          "output_type": "stream",
          "name": "stdout",
          "text": [
            "[(1, 2, True)]\n"
          ]
        }
      ]
    },
    {
      "cell_type": "code",
      "source": [
        "def check_Source_implication(original_clauses,unit_clause):\n",
        "  unit_clause_copy = unit_clause.copy()\n",
        "  source_list = []\n",
        "  for index,(key,variable,value) in enumerate(unit_clause_copy):\n",
        "    orig = original_clauses[key]\n",
        "    orig1 = [x for x in orig if abs(x) != variable]\n",
        "    source_list.append((variable,value,orig1))\n",
        "  return source_list\n",
        "\n",
        "original_clauses = {0: [1,-5,6],1: [2,5,6],2: [-1,6,7],3:[-3,7,-8],4:[3,9]}\n",
        "source_list = check_Source_implication(original_clauses,unit_clause)\n",
        "print(source_list)"
      ],
      "metadata": {
        "colab": {
          "base_uri": "https://localhost:8080/"
        },
        "id": "iGCZMg4sVXmn",
        "outputId": "3777ed38-54eb-4fb8-9935-debdcc140157"
      },
      "execution_count": 13,
      "outputs": [
        {
          "output_type": "stream",
          "name": "stdout",
          "text": [
            "[(2, True, [5, 6])]\n"
          ]
        }
      ]
    },
    {
      "cell_type": "code",
      "source": [
        "def assignment(graph_instance,source_list):\n",
        "  for index,(variable,value,source) in enumerate(source_list):\n",
        "    graph_instance.add_node(variable,value)\n",
        "    for element in source:\n",
        "      graph_instance.add_source_edge(variable,element)\n",
        "  return graph_instance\n",
        "\n",
        "new_assig_graph = Graph()\n",
        "new_assig_graph.add_node(5,True)\n",
        "new_assig_graph.add_node(6,True)\n",
        "print(source_list)\n",
        "assignment(new_assig_graph,source_list)\n",
        "print(new_assig_graph.graph)\n",
        "elem= new_assig_graph.graph.get(5)\n",
        "print(elem['source'])"
      ],
      "metadata": {
        "colab": {
          "base_uri": "https://localhost:8080/"
        },
        "id": "M0GCsLrJHNz_",
        "outputId": "d2531832-f4ef-4ba4-c4e2-53761a1b24d5"
      },
      "execution_count": 21,
      "outputs": [
        {
          "output_type": "stream",
          "name": "stdout",
          "text": [
            "[(2, True, [5, 6])]\n",
            "{5: {'value': True, 'sink': [2], 'source': []}, 6: {'value': True, 'sink': [2], 'source': []}, 2: {'value': True, 'sink': [], 'source': [5, 6]}}\n",
            "[]\n"
          ]
        }
      ]
    },
    {
      "cell_type": "code",
      "source": [
        "def backtrack_delete(graph_instance,conflict_node):\n",
        "  if conflict_node not in graph_instance.graph:\n",
        "    return graph_instance\n",
        "  if not graph_instance.graph[conflict_node]['sink']:\n",
        "    source = graph_instance.graph[conflict_node]['source']\n",
        "    graph_instance.delete_node(conflict_node)\n",
        "    for source_node in source:\n",
        "      backtrack_delete(graph_instance,source_node)\n",
        "  else :\n",
        "    pass\n",
        "  return graph_instance\n",
        "\n",
        "print(new_assig_graph.graph)\n",
        "backtrack_delete(new_assig_graph,2)\n",
        "print(new_assig_graph.graph)"
      ],
      "metadata": {
        "colab": {
          "base_uri": "https://localhost:8080/"
        },
        "id": "p5o8WUZ5aXfR",
        "outputId": "9cee44a7-5f48-4d6b-8177-4ac5f2688402"
      },
      "execution_count": 22,
      "outputs": [
        {
          "output_type": "stream",
          "name": "stdout",
          "text": [
            "{5: {'value': True, 'sink': [2], 'source': []}, 6: {'value': True, 'sink': [2], 'source': []}, 2: {'value': True, 'sink': [], 'source': [5, 6]}}\n",
            "{}\n"
          ]
        }
      ]
    },
    {
      "cell_type": "code",
      "source": [
        "def check_unit_clause_dict(clauses,original_clauses, graph_instance):\n",
        "  \"\"\"Checks for unit clauses and updates the assignment vector.\"\"\"\n",
        "  clauses_copy = clauses.copy()\n",
        "  for key,clause in clauses_copy.items():\n",
        "    if len(clause) == 1:\n",
        "      variable = abs(clause[0])\n",
        "      if variable not in graph_instance.graph:\n",
        "        if clause[0] > 0 :\n",
        "          graph_instance.add_node(variable,True)\n",
        "\n",
        "        elif clause[0]<0 :\n",
        "          graph_instance.add_node(variable,False)\n",
        "\n",
        "        list1 = original_clauses[key]\n",
        "        diff_elements = [x for x in list1 if x not in clause]\n",
        "        for element in diff_elements:\n",
        "          graph_instance.add_source_edge(variable,element)\n",
        "        del clauses[key]\n",
        "      elif variable in graph_instance.graph:\n",
        "        print(\"conflict\")\n",
        "        orig_src = graph_instance[variable][\"source\"]\n",
        "        implicant_src = original_clauses[key]\n",
        "        diff_elements = [x for x in implicant_src if x not in clause]\n",
        "        print(orig_src)\n",
        "        print(diff_elements)\n",
        "\n",
        "  return clauses ,graph_instance\n",
        "\n",
        "\n",
        "new_assig_graph = Graph()\n",
        "new_assig_graph.add_node(2,True)\n",
        "new_assig_graph.add_node(3,True)\n",
        "new_assig_graph.add_node(1,False)\n",
        "original_clauses = {0: [1, 2, 3]}\n",
        "clauses = {0: [1]}\n",
        "assignment = {}\n",
        "clauses , listo = check_unit_clause_dict(clauses, original_clauses,new_assig_graph)\n",
        "print(listo.graph)\n"
      ],
      "metadata": {
        "colab": {
          "base_uri": "https://localhost:8080/",
          "height": 367
        },
        "id": "PJEkWvIzmyfZ",
        "outputId": "06c23095-fcbb-4fd1-9ec2-c4657e716a58"
      },
      "execution_count": 13,
      "outputs": [
        {
          "output_type": "stream",
          "name": "stdout",
          "text": [
            "conflict\n"
          ]
        },
        {
          "output_type": "error",
          "ename": "TypeError",
          "evalue": "'Graph' object is not subscriptable",
          "traceback": [
            "\u001b[0;31m---------------------------------------------------------------------------\u001b[0m",
            "\u001b[0;31mTypeError\u001b[0m                                 Traceback (most recent call last)",
            "\u001b[0;32m<ipython-input-13-75cc579a261b>\u001b[0m in \u001b[0;36m<cell line: 0>\u001b[0;34m()\u001b[0m\n\u001b[1;32m     35\u001b[0m \u001b[0mclauses\u001b[0m \u001b[0;34m=\u001b[0m \u001b[0;34m{\u001b[0m\u001b[0;36m0\u001b[0m\u001b[0;34m:\u001b[0m \u001b[0;34m[\u001b[0m\u001b[0;36m1\u001b[0m\u001b[0;34m]\u001b[0m\u001b[0;34m}\u001b[0m\u001b[0;34m\u001b[0m\u001b[0;34m\u001b[0m\u001b[0m\n\u001b[1;32m     36\u001b[0m \u001b[0massignment\u001b[0m \u001b[0;34m=\u001b[0m \u001b[0;34m{\u001b[0m\u001b[0;34m}\u001b[0m\u001b[0;34m\u001b[0m\u001b[0;34m\u001b[0m\u001b[0m\n\u001b[0;32m---> 37\u001b[0;31m \u001b[0mclauses\u001b[0m \u001b[0;34m,\u001b[0m \u001b[0mlisto\u001b[0m \u001b[0;34m=\u001b[0m \u001b[0mcheck_unit_clause_dict\u001b[0m\u001b[0;34m(\u001b[0m\u001b[0mclauses\u001b[0m\u001b[0;34m,\u001b[0m \u001b[0moriginal_clauses\u001b[0m\u001b[0;34m,\u001b[0m\u001b[0mnew_assig_graph\u001b[0m\u001b[0;34m)\u001b[0m\u001b[0;34m\u001b[0m\u001b[0;34m\u001b[0m\u001b[0m\n\u001b[0m\u001b[1;32m     38\u001b[0m \u001b[0mprint\u001b[0m\u001b[0;34m(\u001b[0m\u001b[0mlisto\u001b[0m\u001b[0;34m.\u001b[0m\u001b[0mgraph\u001b[0m\u001b[0;34m)\u001b[0m\u001b[0;34m\u001b[0m\u001b[0;34m\u001b[0m\u001b[0m\n",
            "\u001b[0;32m<ipython-input-13-75cc579a261b>\u001b[0m in \u001b[0;36mcheck_unit_clause_dict\u001b[0;34m(clauses, original_clauses, graph_instance)\u001b[0m\n\u001b[1;32m     19\u001b[0m       \u001b[0;32melif\u001b[0m \u001b[0mvariable\u001b[0m \u001b[0;32min\u001b[0m \u001b[0mgraph_instance\u001b[0m\u001b[0;34m.\u001b[0m\u001b[0mgraph\u001b[0m\u001b[0;34m:\u001b[0m\u001b[0;34m\u001b[0m\u001b[0;34m\u001b[0m\u001b[0m\n\u001b[1;32m     20\u001b[0m         \u001b[0mprint\u001b[0m\u001b[0;34m(\u001b[0m\u001b[0;34m\"conflict\"\u001b[0m\u001b[0;34m)\u001b[0m\u001b[0;34m\u001b[0m\u001b[0;34m\u001b[0m\u001b[0m\n\u001b[0;32m---> 21\u001b[0;31m         \u001b[0morig_src\u001b[0m \u001b[0;34m=\u001b[0m \u001b[0mgraph_instance\u001b[0m\u001b[0;34m[\u001b[0m\u001b[0mvariable\u001b[0m\u001b[0;34m]\u001b[0m\u001b[0;34m[\u001b[0m\u001b[0;34m\"source\"\u001b[0m\u001b[0;34m]\u001b[0m\u001b[0;34m\u001b[0m\u001b[0;34m\u001b[0m\u001b[0m\n\u001b[0m\u001b[1;32m     22\u001b[0m         \u001b[0mimplicant_src\u001b[0m \u001b[0;34m=\u001b[0m \u001b[0moriginal_clauses\u001b[0m\u001b[0;34m[\u001b[0m\u001b[0mkey\u001b[0m\u001b[0;34m]\u001b[0m\u001b[0;34m\u001b[0m\u001b[0;34m\u001b[0m\u001b[0m\n\u001b[1;32m     23\u001b[0m         \u001b[0mdiff_elements\u001b[0m \u001b[0;34m=\u001b[0m \u001b[0;34m[\u001b[0m\u001b[0mx\u001b[0m \u001b[0;32mfor\u001b[0m \u001b[0mx\u001b[0m \u001b[0;32min\u001b[0m \u001b[0mimplicant_src\u001b[0m \u001b[0;32mif\u001b[0m \u001b[0mx\u001b[0m \u001b[0;32mnot\u001b[0m \u001b[0;32min\u001b[0m \u001b[0mclause\u001b[0m\u001b[0;34m]\u001b[0m\u001b[0;34m\u001b[0m\u001b[0;34m\u001b[0m\u001b[0m\n",
            "\u001b[0;31mTypeError\u001b[0m: 'Graph' object is not subscriptable"
          ]
        }
      ]
    },
    {
      "cell_type": "code",
      "source": [
        "\n"
      ],
      "metadata": {
        "id": "ub-uSa1LAvgu"
      },
      "execution_count": null,
      "outputs": []
    },
    {
      "cell_type": "code",
      "execution_count": 8,
      "metadata": {
        "colab": {
          "base_uri": "https://localhost:8080/"
        },
        "id": "QYg2VJzKqlXf",
        "outputId": "04a3a7f8-0713-4dee-aef9-b24c8f54f0ed"
      },
      "outputs": [
        {
          "output_type": "stream",
          "name": "stdout",
          "text": [
            "[[3], [-2, -3]]\n"
          ]
        }
      ],
      "source": [
        "#Simplify the clause based on assignment\n",
        "#Checking procedure example\n",
        "\n",
        "def simplify(clauses, assignment):\n",
        "  new_clauses = []\n",
        "  for clause in clauses:\n",
        "    new_clause = []\n",
        "    satisfied = False\n",
        "    for literal in clause:\n",
        "      variable = abs(literal)\n",
        "      if variable in assignment:\n",
        "        if (literal > 0 and assignment[variable]) or \\\n",
        "           (literal < 0 and not assignment[variable]):\n",
        "          satisfied = True\n",
        "          break  # Clause is satisfied\n",
        "        elif (literal > 0 and not assignment[variable]) or \\\n",
        "             (literal < 0 and assignment[variable]):\n",
        "          continue #literal is false\n",
        "\n",
        "      else:\n",
        "        new_clause.append(literal)\n",
        "        satisfied = False\n",
        "\n",
        "    if not satisfied:\n",
        "        new_clauses.append(new_clause)\n",
        "\n",
        "  return new_clauses\n",
        "\n",
        "clauses = [[1, 2], [-1, 3], [-2, -3]]\n",
        "assignment = {1: True}\n",
        "new_clauses = simplify(clauses, assignment)\n",
        "print(new_clauses)"
      ]
    },
    {
      "cell_type": "code",
      "source": [
        "#Simplify the clause based on assignment\n",
        "#Checking procedure example\n",
        "\n",
        "def simplify_graph(clauses, graph_instance):\n",
        "  new_clauses = []\n",
        "  for clause in clauses:\n",
        "    new_clause = []\n",
        "    satisfied = False\n",
        "    for literal in clause:\n",
        "      variable = abs(literal)\n",
        "      if variable in graph_instance.graph:\n",
        "        new_variable = graph_instance.graph[variable][\"value\"]\n",
        "        if (literal > 0 and new_variable) or \\\n",
        "           (literal < 0 and not new_variable):\n",
        "          satisfied = True\n",
        "          break  # Clause is satisfied\n",
        "        elif (literal > 0 and not new_variable) or \\\n",
        "             (literal < 0 and new_variable):\n",
        "          continue #literal is false\n",
        "\n",
        "      else:\n",
        "        new_clause.append(literal)\n",
        "        satisfied = False\n",
        "\n",
        "    if not satisfied:\n",
        "        new_clauses.append(new_clause)\n",
        "\n",
        "  return new_clauses\n",
        "\n",
        "clauses = [[1, 2], [-1, 3], [-2, -3]]\n",
        "new_assig_graph = Graph()\n",
        "new_assig_graph.add_node(1,True)\n",
        "new_clauses = simplify_graph(clauses, new_assig_graph)\n",
        "print(new_clauses)"
      ],
      "metadata": {
        "id": "a4D0bpxzXN86",
        "outputId": "e0236c23-ba67-47c9-e22f-b3cf4fb7c4e0",
        "colab": {
          "base_uri": "https://localhost:8080/"
        }
      },
      "execution_count": 20,
      "outputs": [
        {
          "output_type": "stream",
          "name": "stdout",
          "text": [
            "[[3], [-2, -3]]\n"
          ]
        }
      ]
    },
    {
      "cell_type": "code",
      "execution_count": 9,
      "metadata": {
        "colab": {
          "base_uri": "https://localhost:8080/"
        },
        "id": "uHrU017-KqoC",
        "outputId": "d3bfee11-bf62-49ae-c1c2-c7532dadd476"
      },
      "outputs": [
        {
          "output_type": "execute_result",
          "data": {
            "text/plain": [
              "{-3: 1, 4: 2, 5: 1, 7: 1}"
            ]
          },
          "metadata": {},
          "execution_count": 9
        }
      ],
      "source": [
        "def find_pure_literal(clauses, assignment):\n",
        "    literals = {}\n",
        "    mono_literals = {}\n",
        "    for clause in clauses:\n",
        "        for literal in clause:\n",
        "          variable = abs(literal)\n",
        "          if variable not in assignment:\n",
        "            if literal not in literals:\n",
        "              literals[literal] = 0\n",
        "            literals[literal]+=1\n",
        "    for literal in literals:\n",
        "      if -literal not in literals:\n",
        "        mono_literals[literal] = literals[literal]\n",
        "\n",
        "    return mono_literals\n",
        "\n",
        "clauses = [[1, 2], [-1], [-3], [4], [4,5], [7,-1]]\n",
        "assignment = {1: True, 2: True}\n",
        "find_pure_literal(clauses, assignment)"
      ]
    },
    {
      "cell_type": "code",
      "execution_count": 10,
      "metadata": {
        "colab": {
          "base_uri": "https://localhost:8080/"
        },
        "id": "_8jgRz1mQbH4",
        "outputId": "65365090-77b2-414d-8240-7a8493974bc4"
      },
      "outputs": [
        {
          "output_type": "stream",
          "name": "stdout",
          "text": [
            "First literal: 2\n"
          ]
        }
      ],
      "source": [
        "def unassigned_literal(clauses):\n",
        "    literals = {}\n",
        "    for clause in clauses:\n",
        "        for literal in clause:\n",
        "          variable = abs(literal)\n",
        "          if variable not in literals:\n",
        "            literals[variable] = [0,0]\n",
        "          if literal > 0 :\n",
        "            literals[variable] = [literals[variable][0]+1,literals[variable][1]]\n",
        "          elif literal < 0:\n",
        "            literals[variable] = [literals[variable][0],literals[variable][1]+1]\n",
        "\n",
        "    sorted_literals = dict(sorted(literals.items(), key=lambda item: sum(item[1]), reverse=True))\n",
        "    return sorted_literals\n",
        "\n",
        "\n",
        "\n",
        "clauses = [[1, 2], [3,-2], [1,-3],[-2],[-2],[-2]]\n",
        "assignment = {1: True}\n",
        "stats = unassigned_literal(clauses)\n",
        "# Accessing the first element\n",
        "first_literal = next(iter(stats))\n",
        "print(\"First literal:\", first_literal)"
      ]
    },
    {
      "cell_type": "code",
      "execution_count": 11,
      "metadata": {
        "colab": {
          "base_uri": "https://localhost:8080/"
        },
        "id": "qZA26nrlQhhk",
        "outputId": "bb4c068e-4f48-4778-e2dc-a97d3c4c40da"
      },
      "outputs": [
        {
          "output_type": "stream",
          "name": "stdout",
          "text": [
            "[[-1, -2, -3], [-1, -3, -4], [-1, -3, -4], [-1, -3, -4], [-1, -3, -4], [-2, -3, -4], [-1, -2, -3], [-1, -2, 3]]\n",
            "{}\n",
            "0\n",
            "Initial assignments : {}\n",
            "Initial clauses : []\n",
            "RESULT: SAT\n",
            "[(1, False), (2, False), (4, False)]\n",
            "Time taken: 0.0004029273986816406\n",
            "Calls of DPLL: 0\n"
          ]
        }
      ],
      "source": [
        "import time\n",
        "\n",
        "initial_assignment = {}\n",
        "initial_clauses = []\n",
        "\n",
        "def dpll(clauses, assignment={}, iterations=0,initial_assignment={},initial_clauses=[]):\n",
        "  print(clauses)\n",
        "  print(assignment)\n",
        "  print(iterations)\n",
        "\n",
        "\n",
        "\n",
        "  if(iterations == 0):\n",
        "    if(assignment):\n",
        "      initial_assignment = assignment.copy()\n",
        "      initial_clauses = clauses.copy()\n",
        "\n",
        "  print(f\"Initial assignments : {initial_assignment}\")\n",
        "  print(f\"Initial clauses : {initial_clauses}\")\n",
        "\n",
        "  pure_literals = find_pure_literal(clauses, assignment)\n",
        "  #pure literal assignments\n",
        "\n",
        "  for literal in pure_literals:\n",
        "    variable = abs(literal)\n",
        "    if literal > 0:\n",
        "      assignment[variable] = True\n",
        "    else:\n",
        "      assignment[variable] = False\n",
        "\n",
        "  new_clauses = simplify(clauses, assignment)\n",
        "  # Check if all clauses are satisfied\n",
        "  if not new_clauses:\n",
        "    return assignment, iterations\n",
        "  # Check if any clause is empty (unsatisfiable)\n",
        "\n",
        "  if(any(not clause for clause in new_clauses)and bool(initial_assignment)):\n",
        "    print(\"here\")\n",
        "    assignment = {}\n",
        "    new_clauses = initial_clauses.copy()\n",
        "    initial_assignment = {}\n",
        "    initial_clauses = []\n",
        "\n",
        "  if (any(not clause for clause in new_clauses)and bool(not(initial_assignment))):\n",
        "    print(\"meeting this condition\")\n",
        "    return None, iterations\n",
        "\n",
        "  stats = unassigned_literal(new_clauses)\n",
        "  if not stats:\n",
        "    return assignment, iterations\n",
        "  priority_var = next(iter(stats))\n",
        "  new_assignment = assignment.copy()\n",
        "  if (stats[priority_var][0] >=  stats[priority_var][1]):\n",
        "    new_assignment[priority_var] = True\n",
        "  elif (stats[priority_var][0] < stats[priority_var][1]):\n",
        "    new_assignment[priority_var] = False\n",
        "\n",
        "  new_clauses_true = simplify(new_clauses, new_assignment)\n",
        "  updated_clauses,unit_assignment = check_unit_clause(new_clauses_true, new_assignment)\n",
        "  result_true = dpll(updated_clauses, unit_assignment, iterations + 1,initial_assignment,initial_clauses)\n",
        "  if result_true:\n",
        "    return result_true\n",
        "\n",
        "  new_assignment[priority_var] = not new_assignment[priority_var]\n",
        "  new_clauses_false = simplify(new_clauses, new_assignment)\n",
        "  updated_clauses, unit_assignment = check_unit_clause(new_clauses_false, new_assignment)\n",
        "  result_false = dpll(updated_clauses, unit_assignment, iterations + 1,initial_assignment,initial_clauses)\n",
        "  if result_false:\n",
        "    return result_false\n",
        "\n",
        "\n",
        "  return None\n",
        "\n",
        "start_time = time.time()  # Record the start time\n",
        "#clauses,variable_count,clause_count  = read_dimacs_file(\"satTestFile.cnf\")\n",
        "#print(clauses)\n",
        "clauses = [[-1, -2, -3], [-1, -3, -4], [-1, -3, -4], [-1, -3, -4], [-1, -3, -4], [-2, -3, -4], [-1, -2, -3],[-1,-2,3]]\n",
        "assignment = {}\n",
        "iterations = 0\n",
        "result, iterations= dpll(clauses, assignment, iterations)\n",
        "\n",
        "if not result:\n",
        "  print(\"RESULT: UNSAT\")\n",
        "else:\n",
        "  print(\"RESULT: SAT\")\n",
        "  print(sorted(result.items()))\n",
        "  print(\"Time taken:\", time.time() - start_time)\n",
        "  print(\"Calls of DPLL:\", iterations)"
      ]
    },
    {
      "cell_type": "code",
      "execution_count": 16,
      "metadata": {
        "id": "ZxkZnFHAfE_7"
      },
      "outputs": [],
      "source": [
        "\n",
        "class Graph:\n",
        "    def __init__(self):\n",
        "        self.graph = {}\n",
        "\n",
        "    def add_node(self, node, value):\n",
        "        if node not in self.graph:\n",
        "            self.graph[node] = {'value': value, 'sink': [], 'source':[]}  # Initialize node with value and empty neighbors list\n",
        "        else:\n",
        "            print(f\"Node '{node}' already exists.\")\n",
        "            if(self.graph[node]['value'] != value):\n",
        "              print(f\"conflict detected.conflict clause: \")\n",
        "\n",
        "\n",
        "    def add_source_edge(self, node1, node2):\n",
        "        if node1 in self.graph and node2 in self.graph:\n",
        "            self.graph[node1]['source'].append(node2)\n",
        "            self.graph[node2]['sink'].append(node1)  # Assuming undirected graph\n",
        "\n",
        "    def delete_node(self, node):\n",
        "      if node in self.graph:\n",
        "        # Remove node from neighbors' lists\n",
        "        for neighbor in (self.graph[node]['source']):\n",
        "          if node in (self.graph[neighbor]['sink']):\n",
        "            self.graph[neighbor]['sink'].remove(node)\n",
        "        for neighbor in (self.graph[node]['sink']):\n",
        "          if node in (self.graph[neighbor]['source']):\n",
        "            self.graph[neighbor]['source'].remove(node)\n",
        "        # Remove node from the graph\n",
        "        del self.graph[node]\n",
        "\n",
        "    def traverse_sink(self, start_node):\n",
        "        visited = set()\n",
        "        queue = [start_node]\n",
        "        visited.add(start_node)\n",
        "\n",
        "        while queue:\n",
        "          current_node = queue.pop(0)\n",
        "          print(f\"Node: {current_node}, Value: {self.graph[current_node]['value']}, Neighbors : {self.graph[current_node]['sink']}\")\n",
        "          for neighbor in self.graph[current_node]['sink']:\n",
        "            if neighbor not in visited:\n",
        "              visited.add(neighbor)\n",
        "              queue.append(neighbor)\n",
        "\n",
        "    def traverse_source(self, start_node):\n",
        "        visited = set()\n",
        "        queue = [start_node]\n",
        "        visited.add(start_node)\n",
        "\n",
        "        while queue:\n",
        "          current_node = queue.pop(0)\n",
        "          print(f\"Node: {current_node}, Value: {self.graph[current_node]['value']}, Neighbors : {self.graph[current_node]['source']}\")\n",
        "          for neighbor in self.graph[current_node]['source']:\n",
        "            if neighbor not in visited:\n",
        "              visited.add(neighbor)\n",
        "              queue.append(neighbor)\n"
      ]
    },
    {
      "cell_type": "code",
      "source": [
        "assig_graph = Graph()\n",
        "def dpll_cdcl(clauses,assignment,iterations=0):\n",
        "  pure_literals = find_pure_literal(clauses, assignment)\n",
        "  for literal in pure_literals:\n",
        "    variable = abs(literal)\n",
        "    if literal > 0:\n",
        "      assig_graph.add_node(variable,True)\n",
        "    else:\n",
        "      assig_graph.add_node(variable,False)\n",
        "  new_clauses = simplify_graph(clauses, assig_graph)\n",
        "  if not new_clauses:\n",
        "    return assignment, iterations\n",
        "  # Check if any clause is empty (unsatisfiable)\n",
        "\n",
        "  if(any(not clause for clause in new_clauses)):\n",
        "    return None, iterations\n",
        "\n",
        "  stats = unassigned_literal(new_clauses)\n",
        "  if not stats:\n",
        "    return assignment, iterations\n",
        "  priority_var = next(iter(stats))\n",
        "  if (stats[priority_var][0] >=  stats[priority_var][1]):\n",
        "    assig_graph.add_node(priority_var,True)\n",
        "  elif (stats[priority_var][0] < stats[priority_var][1]):\n",
        "    assig_graph.add_node(priority_var,False)\n",
        "\n",
        "  new_clauses_true = simplify_graph(new_clauses, assig_graph)\n",
        "  updated_clauses,unit_assignment = check_unit_clause(new_clauses_true, new_assignment)\n",
        "  result_true = dpll_cdcl(updated_clauses, assig_graph)\n",
        "  if result_true:\n",
        "    return result_true\n",
        "  new_assignment[priority_var] = not new_assignment[priority_var]\n",
        "  assig_graph.add_node(priority_var,not new_assignment[priority_var])\n",
        "  new_clauses_false = simplify(new_clauses, new_assignment)\n",
        "  updated_clauses, unit_assignment = check_unit_clause(new_clauses_false, new_assignment)\n",
        "  result_false = dpll_cdcl(updated_clauses, unit_assignment)\n",
        "  if result_false:\n",
        "    return result_false\n",
        "  return None\n",
        "clauses = [[-1, -2, -3], [-1, -3, -4], [-1, -3, -4], [-1, -3, -4], [-1, -3, -4], [-2, -3, -4], [-1, -2, -3],[-1,-2,3]]\n",
        "assignment = {}\n",
        "iterations = 0\n",
        "result, iterations= dpll_cdcl(clauses, assignment, iterations)\n",
        "print(assig_graph.graph)\n",
        "if not result:\n",
        "  print(\"RESULT: UNSAT\")\n",
        "else:\n",
        "  print(\"RESULT: SAT\")\n",
        "  print(sorted(result.items()))"
      ],
      "metadata": {
        "colab": {
          "base_uri": "https://localhost:8080/"
        },
        "id": "2Vi178spih6Z",
        "outputId": "1d5fe533-41e3-4058-974c-5722d42b7266"
      },
      "execution_count": 13,
      "outputs": [
        {
          "output_type": "stream",
          "name": "stdout",
          "text": [
            "{1: {'value': False, 'sink': [], 'source': []}, 2: {'value': False, 'sink': [], 'source': []}, 4: {'value': False, 'sink': [], 'source': []}}\n",
            "RESULT: SAT\n",
            "[(1, False), (2, False), (4, False)]\n"
          ]
        }
      ]
    },
    {
      "cell_type": "code",
      "execution_count": null,
      "metadata": {
        "id": "rbca-eWpeTFB"
      },
      "outputs": [],
      "source": [
        "def main():\n",
        "  [clauses,variable_count,clause_count] = read_dimacs_file(\"uf20-0999.cnf\")\n",
        "  print(f\"The number of variables are {variable_count},The number of clauses are {clause_count}\")\n",
        "  print(clauses)\n",
        "  assignment = stalmarck(clauses)\n",
        "  print(assignment)\n",
        "  clauses = [[1, 2],[2],[-1, 3]]\n",
        "  assignment = {1: True, 3: True}\n",
        "  check_unit_clause(clauses, assignment)\n",
        "  print(assignment)\n"
      ]
    },
    {
      "cell_type": "code",
      "execution_count": null,
      "metadata": {
        "colab": {
          "base_uri": "https://localhost:8080/"
        },
        "id": "IEYXRfmkepIS",
        "outputId": "e7b13d82-1abd-4d72-d7b9-5cb179eb4a77"
      },
      "outputs": [
        {
          "name": "stdout",
          "output_type": "stream",
          "text": [
            "The number of variables are 20,The number of clauses are 91\n",
            "[[13, 15, -5], [5, -13, -9], [-2, -13, -9], [-16, 18, 19], [-6, 14, 5], [-7, 4, 11], [-15, 19, 14], [20, -3, -19], [-20, -9, -11], [2, -6, -10], [13, -6, 3], [9, 11, -8], [-9, -19, 7], [-17, -20, 12], [-17, 4, -16], [20, -5, -7], [-10, -4, 11], [5, 9, -1], [17, -1, 19], [-1, -2, -6], [15, 17, -19], [15, -14, 18], [-16, -15, 19], [-16, 6, -15], [-20, 5, -3], [-10, 20, 16], [-6, 17, -7], [7, 2, -16], [-18, 5, 13], [-17, 13, 12], [-14, -6, -12], [14, -2, -9], [3, -14, -17], [-1, 18, -6], [14, -18, -8], [7, -3, -19], [-18, -20, -5], [20, 12, 15], [5, 3, 15], [16, -6, -18], [8, 5, -18], [4, 6, -15], [6, 3, 4], [9, -11, -12], [12, 9, 5], [4, 18, -8], [16, -8, 1], [3, 1, -7], [15, -9, -4], [-5, -3, -10], [-16, -12, -19], [12, -3, -16], [4, -18, -6], [5, -7, -3], [15, -1, -5], [-16, 9, 10], [-9, 17, 5], [-2, 4, 10], [16, 9, -11], [1, -7, -15], [-20, -8, 3], [3, 9, 17], [-11, 9, 6], [8, 16, 19], [2, 8, -3], [-5, 15, 18], [1, 16, 2], [-18, -11, -9], [5, 7, -12], [-13, -10, 20], [11, -20, 1], [-13, 19, 2], [17, -3, 15], [-2, 4, 13], [5, -19, 12], [-12, -5, 7], [19, -4, 2], [-5, -14, 10], [-6, -1, -12], [20, -18, -11], [14, 16, 4], [5, 12, -10], [10, 3, -6], [-15, -3, 5], [12, -13, -1], [20, -9, -8], [-10, 18, -6], [16, 12, -18], [-14, 15, -2], [3, 19, 10], [15, 20, 13]]\n",
            "{1: True, 2: True, 6: False, 3: True, 4: True, 5: True, 10: False, 15: True, 16: False, 14: False, 19: True, 20: True, 9: False, 7: True, 18: False, 11: False, 8: False, 13: True, 12: True}\n",
            "{1: True, 3: True, 2: True}\n"
          ]
        }
      ],
      "source": [
        "if __name__ == \"__main__\":\n",
        "  main()"
      ]
    }
  ],
  "metadata": {
    "colab": {
      "provenance": [],
      "include_colab_link": true
    },
    "kernelspec": {
      "display_name": "Python 3",
      "name": "python3"
    },
    "language_info": {
      "codemirror_mode": {
        "name": "ipython",
        "version": 3
      },
      "file_extension": ".py",
      "mimetype": "text/x-python",
      "name": "python",
      "nbconvert_exporter": "python",
      "pygments_lexer": "ipython3",
      "version": "3.13.2"
    }
  },
  "nbformat": 4,
  "nbformat_minor": 0
}