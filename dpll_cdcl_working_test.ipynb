{
 "cells": [
  {
   "cell_type": "code",
   "execution_count": 14,
   "id": "bc847da9",
   "metadata": {},
   "outputs": [],
   "source": [
    "def read_dimacs_file(filename):\n",
    "    clauses = []\n",
    "    with open(filename, 'r') as file:\n",
    "        for line in file:\n",
    "            line = line.strip()\n",
    "            if not line or line.startswith('c') or line.startswith('p'):\n",
    "                continue\n",
    "            clause = list(map(int, line.split()))\n",
    "            if not clause:\n",
    "                continue\n",
    "            if clause[-1] == 0:\n",
    "                clause = clause[:-1]\n",
    "            clauses.append(clause)\n",
    "    return clauses"
   ]
  },
  {
   "cell_type": "code",
   "execution_count": 1,
   "id": "8383b489",
   "metadata": {},
   "outputs": [],
   "source": [
    "class Graph:\n",
    "    def __init__(self):\n",
    "        self.graph = {}\n",
    "    \n",
    "    def add_node(self, variable, value):\n",
    "        self.graph[variable] = {\"value\": value, \"source\": []}\n",
    "    \n",
    "    def add_source_edge(self, variable, source_literal):\n",
    "        if variable in self.graph:\n",
    "            self.graph[variable][\"source\"].append(source_literal)\n",
    "    \n",
    "    def __getitem__(self, key):\n",
    "        return self.graph.get(key, {})"
   ]
  },
  {
   "cell_type": "code",
   "execution_count": 2,
   "id": "2980ea32",
   "metadata": {},
   "outputs": [],
   "source": [
    "def check_unit_clause(clauses, assignment):\n",
    "    \"\"\"Checks for unit clauses and updates the assignment vector.\"\"\"\n",
    "    for clause in clauses:\n",
    "        if len(clause) == 1:\n",
    "            variable = abs(clause[0])\n",
    "            if clause[0] > 0:\n",
    "                assignment[variable] = True\n",
    "                clauses.remove(clause)\n",
    "            else:\n",
    "                assignment[variable] = False\n",
    "                clauses.remove(clause)\n",
    "    return clauses, assignment"
   ]
  },
  {
   "cell_type": "code",
   "execution_count": 3,
   "id": "152a71b6",
   "metadata": {},
   "outputs": [],
   "source": [
    "def simplify(clauses, assignment):\n",
    "    new_clauses = []\n",
    "    for clause in clauses:\n",
    "        new_clause = []\n",
    "        satisfied = False\n",
    "        for literal in clause:\n",
    "            variable = abs(literal)\n",
    "            if variable in assignment:\n",
    "                if (literal > 0 and assignment[variable]) or \\\n",
    "                   (literal < 0 and not assignment[variable]):\n",
    "                    satisfied = True\n",
    "                    break\n",
    "                continue\n",
    "            else:\n",
    "                new_clause.append(literal)\n",
    "        if not satisfied:\n",
    "            new_clauses.append(new_clause)\n",
    "    return new_clauses"
   ]
  },
  {
   "cell_type": "code",
   "execution_count": 4,
   "id": "ecf57e49",
   "metadata": {},
   "outputs": [],
   "source": [
    "def find_pure_literal(clauses, assignment):\n",
    "    literals = {}\n",
    "    mono_literals = {}\n",
    "    for clause in clauses:\n",
    "        for literal in clause:\n",
    "            variable = abs(literal)\n",
    "            if variable not in assignment:\n",
    "                literals[literal] = literals.get(literal, 0) + 1\n",
    "    for literal in literals:\n",
    "        if -literal not in literals:\n",
    "            mono_literals[literal] = literals[literal]\n",
    "    return mono_literals"
   ]
  },
  {
   "cell_type": "code",
   "execution_count": 5,
   "id": "2862803b",
   "metadata": {},
   "outputs": [],
   "source": [
    "def unassigned_literal(clauses):\n",
    "    literals = {}\n",
    "    for clause in clauses:\n",
    "        for literal in clause:\n",
    "            variable = abs(literal)\n",
    "            if variable not in literals:\n",
    "                literals[variable] = [0, 0]\n",
    "            if literal > 0:\n",
    "                literals[variable][0] += 1\n",
    "            else:\n",
    "                literals[variable][1] += 1\n",
    "    return dict(sorted(literals.items(), key=lambda item: sum(item[1]), reverse=True))"
   ]
  },
  {
   "cell_type": "code",
   "execution_count": 28,
   "id": "de6e9a37",
   "metadata": {},
   "outputs": [
    {
     "name": "stdout",
     "output_type": "stream",
     "text": [
      "Resulting Assignment: None\n",
      "Iterations: 3\n"
     ]
    }
   ],
   "source": [
    "def dpll_cdcl(clauses, assignment={}, iterations=0, decision_level=0, implication_graph=None):\n",
    "    if implication_graph is None:\n",
    "        implication_graph = Graph()\n",
    "\n",
    "    pure_literals = find_pure_literal(clauses, assignment)\n",
    "    for literal in pure_literals:\n",
    "        variable = abs(literal)\n",
    "        value = literal > 0\n",
    "        if variable not in assignment:\n",
    "            assignment[variable] = value\n",
    "            implication_graph.add_node(variable, value)\n",
    "\n",
    "    new_clauses = simplify(clauses, assignment)\n",
    "\n",
    "    if not new_clauses:\n",
    "        return assignment, iterations\n",
    "\n",
    "    if any(not clause for clause in new_clauses):\n",
    "        # Simulated clause learning: add a new learned clause\n",
    "        learned_clause = [-lit for lit in assignment if assignment[lit]]\n",
    "        if learned_clause:\n",
    "            clauses.append(learned_clause)\n",
    "        return None, iterations\n",
    "\n",
    "    stats = unassigned_literal(new_clauses)\n",
    "    if not stats:\n",
    "        return assignment, iterations\n",
    "\n",
    "    priority_var = next(iter(stats))\n",
    "    new_assignment = assignment.copy()\n",
    "    value = stats[priority_var][0] >= stats[priority_var][1]\n",
    "    new_assignment[priority_var] = value\n",
    "    implication_graph.add_node(priority_var, value)\n",
    "\n",
    "    new_clauses_true = simplify(new_clauses, new_assignment)\n",
    "    updated_clauses, unit_assignment = check_unit_clause(new_clauses_true, new_assignment)\n",
    "    result_true = dpll_cdcl(updated_clauses, unit_assignment, iterations + 1, decision_level + 1, implication_graph)\n",
    "    if result_true:\n",
    "        return result_true\n",
    "\n",
    "    new_assignment[priority_var] = not value\n",
    "    implication_graph.add_node(priority_var, not value)\n",
    "\n",
    "    new_clauses_false = simplify(new_clauses, new_assignment)\n",
    "    updated_clauses, unit_assignment = check_unit_clause(new_clauses_false, new_assignment)\n",
    "    result_false = dpll_cdcl(updated_clauses, unit_assignment, iterations + 1, decision_level + 1, implication_graph)\n",
    "    if result_false:\n",
    "        return result_false\n",
    "\n",
    "    return None, iterations\n",
    "\n",
    "# Load clauses from DIMACS file\n",
    "filename = 'quinn.cnf'  # Replace with actual path\n",
    "test_clauses = read_dimacs_file(filename)\n",
    "test_assignment = {}\n",
    "result, iterations = dpll_cdcl(test_clauses, test_assignment)\n",
    "print(\"Resulting Assignment:\", result)\n",
    "print(\"Iterations:\", iterations)"
   ]
  }
 ],
 "metadata": {
  "kernelspec": {
   "display_name": "Python 3",
   "language": "python",
   "name": "python3"
  },
  "language_info": {
   "codemirror_mode": {
    "name": "ipython",
    "version": 3
   },
   "file_extension": ".py",
   "mimetype": "text/x-python",
   "name": "python",
   "nbconvert_exporter": "python",
   "pygments_lexer": "ipython3",
   "version": "3.13.2"
  }
 },
 "nbformat": 4,
 "nbformat_minor": 5
}
