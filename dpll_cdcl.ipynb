{
 "cells": [
  {
   "cell_type": "code",
   "execution_count": 179,
   "metadata": {},
   "outputs": [
    {
     "name": "stdout",
     "output_type": "stream",
     "text": [
      "[[3], [-2, -3], [2]]\n"
     ]
    }
   ],
   "source": [
    "# function to simplify clauses given current assignment\n",
    "# also removes satisfied clauses and remove falsified literals\n",
    "def simplify(clauses, assignment):\n",
    "    new_clauses = []\n",
    "    for clause in clauses: # loop through clauses\n",
    "        new_clause = []\n",
    "        satisfied = False\n",
    "        for literal in clause: # loop through literals\n",
    "            var = abs(literal)\n",
    "            if var in assignment:\n",
    "                # if literal is satisfied by assignment, clause is also satisfied\n",
    "                if (assignment[var] and literal > 0) or (not assignment[var] and literal < 0):\n",
    "                    satisfied = True\n",
    "                    break\n",
    "                else:\n",
    "                    # if code reaches here literal is false and skips literal\n",
    "                    continue\n",
    "            else:\n",
    "                new_clause.append(literal)\n",
    "        if not satisfied:\n",
    "            if new_clause == []:\n",
    "                new_clauses.append(new_clause)\n",
    "            else:\n",
    "                new_clauses.append(new_clause)\n",
    "    return new_clauses\n",
    "\n",
    "clauses = [[1, 2], [-1, 3], [-2, -3], [4, -1], [-4, 2]]\n",
    "assignment = {1: True, 4: True}\n",
    "new_clauses = simplify(clauses, assignment)\n",
    "print(new_clauses)"
   ]
  },
  {
   "cell_type": "code",
   "execution_count": 180,
   "metadata": {},
   "outputs": [
    {
     "name": "stdout",
     "output_type": "stream",
     "text": [
      "([[]], {1: False, 3: True, 2: False, 7: True, 4: True, 8: False, 12: True, 11: True, 9: True}, 9)\n"
     ]
    }
   ],
   "source": [
    "# function to perform unit propogation step of cdcl\n",
    "# returns clauses and assignments as well as any conflict clauses caused by said assignments\n",
    "def unit_propagate(clauses, assignment):\n",
    "    changed = True\n",
    "    conflict_clause = None\n",
    "    while changed:\n",
    "        changed = False\n",
    "        for clause in clauses:\n",
    "            unassigned = [literal for literal in clause if abs(literal) not in assignment]\n",
    "            # if clause is empty, conflict detected\n",
    "            if len(clause) == 0:\n",
    "                conflict_clause = list(assignment)[-1] # was clause instead of this\n",
    "                return clauses, assignment, conflict_clause\n",
    "            if len(unassigned) == 1:\n",
    "                literal = unassigned[0]\n",
    "                var = abs(literal)\n",
    "                value = (literal > 0)\n",
    "                if var in assignment and assignment[var] != value:\n",
    "                    conflict_clause = clause\n",
    "                    return clauses, assignment, conflict_clause\n",
    "                if var not in assignment:\n",
    "                    assignment[var] = value\n",
    "                    clauses = simplify(clauses, assignment)\n",
    "                    changed = True\n",
    "                    break  # restart scanning clauses\n",
    "    return clauses, assignment, conflict_clause\n",
    "\n",
    "clauses = [[1, 4], [1, -3, -8], [1, 8, 12], \n",
    "           [2, 11], [-7, -3, 9], [-7, 8, -9], \n",
    "           [7, 8, -10], [7, 10, -12]]\n",
    "assignment = {1: False, 3: True, 2: False, 7: True}\n",
    "new_clauses = unit_propagate(clauses, assignment)\n",
    "print(new_clauses)"
   ]
  },
  {
   "cell_type": "code",
   "execution_count": 181,
   "metadata": {},
   "outputs": [
    {
     "name": "stdout",
     "output_type": "stream",
     "text": [
      "9\n",
      "[-8, 3, 7]\n"
     ]
    }
   ],
   "source": [
    "# create function to look through all the clauses and add up all of the varibles that create the conflict\n",
    "def create_conflict_clause(clauses, conflict_literal):\n",
    "    conflict_list = []\n",
    "\n",
    "    # loop through list of clauses\n",
    "    for clause in clauses:\n",
    "        # loop through literals of a single clause\n",
    "        for literal in clause:\n",
    "            # if a literal in the clause matches the conflict literal\n",
    "            if literal == conflict_literal or literal == int(conflict_literal / -1):\n",
    "                if literal > 0: # check to make sure if its the base literal or complement\n",
    "                    clause.remove(conflict_literal) # remove the conflict literal from the clause\n",
    "                else:\n",
    "                    clause.remove(int(conflict_literal / -1)) # remove the conflict literal from the clause\n",
    "                # loop through the conflict items and only add if they are not duplicates\n",
    "                for literal in clause:\n",
    "                        conflict_list.append(int(literal / -1))\n",
    "    \n",
    "    return list(set(conflict_list))\n",
    "\n",
    "clauses = [[1, 4], [1, -3, -8], [1, 8, 12], \n",
    "           [2, 11], [-7, -3, 9], [-7, 8, -9], \n",
    "           [7, 8, -10], [7, 10, -12]]\n",
    "assignment = {1: False, 3: True, 2: False, 7: True}\n",
    "new_clauses = unit_propagate(clauses, assignment)\n",
    "print(new_clauses[2])\n",
    "\n",
    "# call create conflict clause\n",
    "conflict_list = create_conflict_clause(clauses, new_clauses[2])\n",
    "print(conflict_list)\n",
    "\n"
   ]
  },
  {
   "cell_type": "code",
   "execution_count": 182,
   "metadata": {},
   "outputs": [
    {
     "name": "stdout",
     "output_type": "stream",
     "text": [
      "3\n"
     ]
    }
   ],
   "source": [
    "# heuristic function to pick a branching variable that is not yet assigned\n",
    "def pick_branching_variable(clauses, assignment):\n",
    "    for clause in clauses:\n",
    "        for literal in clause:\n",
    "            var = abs(literal)\n",
    "            if var not in assignment:\n",
    "                return var\n",
    "    return None\n",
    "\n",
    "clauses = [[1, 4], [1, -3, -8], [1, 8, 12], \n",
    "           [2, 11], [-7, -3, 9], [-7, 8, -9], \n",
    "           [7, 8, -10], [7, 10, -12]]\n",
    "assignment = {1: False, 4: True}\n",
    "branching_variable_choice = pick_branching_variable(clauses, assignment)\n",
    "print(branching_variable_choice)"
   ]
  },
  {
   "cell_type": "code",
   "execution_count": 183,
   "metadata": {},
   "outputs": [
    {
     "name": "stdout",
     "output_type": "stream",
     "text": [
      "{1: False, 3: True, 2: False}\n"
     ]
    }
   ],
   "source": [
    "# function to delete end of the assignment that is not needed once we find the right assignmnet to backtrack to\n",
    "def delete_after_key(assignment, key):\n",
    "    keys_to_delete = []\n",
    "    found = False\n",
    "    for k in assignment:\n",
    "        if found:\n",
    "            keys_to_delete.append(k)\n",
    "        if k == key:\n",
    "            found = True\n",
    "    for k in keys_to_delete:\n",
    "        del assignment[k]\n",
    "    return assignment\n",
    "\n",
    "\n",
    "assignment = {1: False, 3: True, 2: False, 7: True, 4: True, 8: False, 12: True, 11: True, 9: True}\n",
    "new_assignment = delete_after_key(assignment, 2)\n",
    "print(new_assignment)"
   ]
  },
  {
   "cell_type": "code",
   "execution_count": 184,
   "metadata": {},
   "outputs": [
    {
     "name": "stdout",
     "output_type": "stream",
     "text": [
      "([[4], [-8], [8, 12], [2, 11], [-7, 9], [-7, 8, -9], [7, 8, -10], [7, 10, -12]], {1: False, 3: True})\n"
     ]
    }
   ],
   "source": [
    "import random\n",
    "\n",
    "# function to find the optimal variable to backtrack on after a conflict occurs\n",
    "def backtrack(clauses, assignment, conflict_list):\n",
    "    temp_assignment_var = 0\n",
    "\n",
    "    # loop through the assignments created from the initial unit propagation\n",
    "    for variable in assignment:\n",
    "\n",
    "        # check to see what the varible assignmnet was and turn it into a number\n",
    "        if assignment.get(variable) == False:\n",
    "            temp_assignment_var = variable / -1\n",
    "        else:\n",
    "            temp_assignment_var = variable\n",
    "\n",
    "        # check to see if branching variable is in the conflict list\n",
    "        for literal in conflict_list:\n",
    "            # if variable in conflict list matches the assignment variable\n",
    "            if literal == temp_assignment_var:\n",
    "                assignment = delete_after_key(assignment, temp_assignment_var)\n",
    "                clauses = simplify(clauses, assignment)\n",
    "                return clauses, assignment\n",
    "            \n",
    "    # if backtrack not found, start with no assignments\n",
    "    assignment = {}\n",
    "    return clauses, assignment\n",
    "            \n",
    "clauses = [[1, 4], [1, -3, -8], [1, 8, 12], \n",
    "           [2, 11], [-7, -3, 9], [-7, 8, -9], \n",
    "           [7, 8, -10], [7, 10, -12]]\n",
    "assignment = {1: False, 3: True, 2: False, 7: True, 4: True, 8: False, 12: True, 11: True, 9: True}\n",
    "conflict_list = [-8, 3, 7]\n",
    "backtrack_result = backtrack(clauses, assignment, conflict_list)\n",
    "print(backtrack_result)\n"
   ]
  }
 ],
 "metadata": {
  "kernelspec": {
   "display_name": "Python 3",
   "language": "python",
   "name": "python3"
  },
  "language_info": {
   "codemirror_mode": {
    "name": "ipython",
    "version": 3
   },
   "file_extension": ".py",
   "mimetype": "text/x-python",
   "name": "python",
   "nbconvert_exporter": "python",
   "pygments_lexer": "ipython3",
   "version": "3.13.2"
  }
 },
 "nbformat": 4,
 "nbformat_minor": 2
}
