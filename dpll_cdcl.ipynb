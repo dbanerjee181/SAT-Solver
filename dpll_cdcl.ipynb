{
 "cells": [
  {
   "cell_type": "code",
   "execution_count": 119,
   "metadata": {},
   "outputs": [
    {
     "name": "stdout",
     "output_type": "stream",
     "text": [
      "[[3], [-2, -3], [2]]\n"
     ]
    }
   ],
   "source": [
    "# function to simplify clauses given current assignment\n",
    "# also removes satisfied clauses and remove falsified literals\n",
    "def simplify(clauses, assignment):\n",
    "    new_clauses = []\n",
    "    for clause in clauses: # loop through clauses\n",
    "        new_clause = []\n",
    "        satisfied = False\n",
    "        for literal in clause: # loop through literals\n",
    "            var = abs(literal)\n",
    "            if var in assignment:\n",
    "                # if literal is satisfied by assignment, clause is also satisfied\n",
    "                if (assignment[var] and literal > 0) or (not assignment[var] and literal < 0):\n",
    "                    satisfied = True\n",
    "                    break\n",
    "                else:\n",
    "                    # if code reaches here literal is false and skips literal\n",
    "                    continue\n",
    "            else:\n",
    "                new_clause.append(literal)\n",
    "        if not satisfied:\n",
    "            if new_clause == []:\n",
    "                new_clauses.append(new_clause)\n",
    "            else:\n",
    "                new_clauses.append(new_clause)\n",
    "    return new_clauses\n",
    "\n",
    "clauses = [[1, 2], [-1, 3], [-2, -3], [4, -1], [-4, 2]]\n",
    "assignment = {1: True, 4: True}\n",
    "new_clauses = simplify(clauses, assignment)\n",
    "print(new_clauses)"
   ]
  },
  {
   "cell_type": "code",
   "execution_count": 120,
   "metadata": {},
   "outputs": [
    {
     "name": "stdout",
     "output_type": "stream",
     "text": [
      "([[]], {1: False, 3: True, 2: False, 7: True, 4: True, 8: False, 12: True, 11: True, 9: True}, 9)\n"
     ]
    }
   ],
   "source": [
    "# function to perform unit propogation step of cdcl\n",
    "# returns clauses and assignments as well as any conflict clauses caused by said assignments\n",
    "def unit_propagate(clauses, assignment):\n",
    "    changed = True\n",
    "    conflict_clause = None\n",
    "    while changed:\n",
    "        changed = False\n",
    "        for clause in clauses:\n",
    "            unassigned = [literal for literal in clause if abs(literal) not in assignment]\n",
    "            # if clause is empty, conflict detected\n",
    "            if len(clause) == 0:\n",
    "                conflict_clause = list(assignment)[-1] # was clause instead of this\n",
    "                return clauses, assignment, conflict_clause\n",
    "            if len(unassigned) == 1:\n",
    "                literal = unassigned[0]\n",
    "                var = abs(literal)\n",
    "                value = (literal > 0)\n",
    "                if var in assignment and assignment[var] != value:\n",
    "                    conflict_clause = clause\n",
    "                    return clauses, assignment, conflict_clause\n",
    "                if var not in assignment:\n",
    "                    assignment[var] = value\n",
    "                    clauses = simplify(clauses, assignment)\n",
    "                    changed = True\n",
    "                    break  # restart scanning clauses\n",
    "    return clauses, assignment, conflict_clause\n",
    "\n",
    "clauses = [[1, 4], [1, -3, -8], [1, 8, 12], \n",
    "           [2, 11], [-7, -3, 9], [-7, 8, -9], \n",
    "           [7, 8, -10], [7, 10, -12]]\n",
    "assignment = {1: False, 3: True, 2: False, 7: True}\n",
    "new_clauses = unit_propagate(clauses, assignment)\n",
    "print(new_clauses)"
   ]
  },
  {
   "cell_type": "code",
   "execution_count": 121,
   "metadata": {},
   "outputs": [
    {
     "name": "stdout",
     "output_type": "stream",
     "text": [
      "9\n",
      "[-8, 3, 7]\n"
     ]
    }
   ],
   "source": [
    "# create function to look through all the clauses and add up all of the varibles that create the conflict\n",
    "def create_conflict_clause(clauses, conflict_literal):\n",
    "    conflict_list = []\n",
    "\n",
    "    # loop through list of clauses\n",
    "    for clause in clauses:\n",
    "        # loop through literals of a single clause\n",
    "        for literal in clause:\n",
    "            # if a literal in the clause matches the conflict literal\n",
    "            if literal == conflict_literal or literal == int(conflict_literal / -1):\n",
    "                if literal > 0: # check to make sure if its the base literal or complement\n",
    "                    clause.remove(conflict_literal) # remove the conflict literal from the clause\n",
    "                else:\n",
    "                    clause.remove(int(conflict_literal / -1)) # remove the conflict literal from the clause\n",
    "                # loop through the conflict items and only add if they are not duplicates\n",
    "                for literal in clause:\n",
    "                        conflict_list.append(int(literal / -1))\n",
    "    \n",
    "    return list(set(conflict_list))\n",
    "\n",
    "clauses = [[1, 4], [1, -3, -8], [1, 8, 12], \n",
    "           [2, 11], [-7, -3, 9], [-7, 8, -9], \n",
    "           [7, 8, -10], [7, 10, -12]]\n",
    "assignment = {1: False, 3: True, 2: False, 7: True}\n",
    "new_clauses = unit_propagate(clauses, assignment)\n",
    "print(new_clauses[2])\n",
    "\n",
    "# call create conflict clause\n",
    "conflict_list = create_conflict_clause(clauses, new_clauses[2])\n",
    "print(conflict_list)\n",
    "\n"
   ]
  },
  {
   "cell_type": "code",
   "execution_count": 122,
   "metadata": {},
   "outputs": [
    {
     "name": "stdout",
     "output_type": "stream",
     "text": [
      "3\n"
     ]
    }
   ],
   "source": [
    "# heuristic function to pick a branching variable that is not yet assigned\n",
    "def pick_branching_variable(clauses, assignment):\n",
    "    for clause in clauses:\n",
    "        for literal in clause:\n",
    "            var = abs(literal)\n",
    "            if var not in assignment:\n",
    "                return var\n",
    "    return None\n",
    "\n",
    "clauses = [[1, 4], [1, -3, -8], [1, 8, 12], \n",
    "           [2, 11], [-7, -3, 9], [-7, 8, -9], \n",
    "           [7, 8, -10], [7, 10, -12]]\n",
    "assignment = {1: False, 4: True}\n",
    "branching_variable_choice = pick_branching_variable(clauses, assignment)\n",
    "print(branching_variable_choice)"
   ]
  },
  {
   "cell_type": "code",
   "execution_count": 123,
   "metadata": {},
   "outputs": [],
   "source": [
    "# function to analyze conflict clauses and learn a new clause from it\n",
    "# gets the negation of the conflict clause and adds it to the list of clauses\n",
    "# does not have non-chronological backtracking implmented yet \n",
    "# (usually you want to backtrack to where the beginning the the conflict clause occured in the search tree)\n",
    "def analyze_conflict(clauses, assignment, conflict_clause):\n",
    "    learned_clause = []\n",
    "    for literal in conflict_clause:\n",
    "        var = abs(literal)\n",
    "        # negate current assignment for variable\n",
    "        if var in assignment:\n",
    "            learned_clause.append(-literal if assignment[var] else literal)\n",
    "    backtrack_level = 0 # backtrack completely (return backtrack level 0)\n",
    "    return learned_clause, backtrack_level"
   ]
  }
 ],
 "metadata": {
  "kernelspec": {
   "display_name": "Python 3",
   "language": "python",
   "name": "python3"
  },
  "language_info": {
   "codemirror_mode": {
    "name": "ipython",
    "version": 3
   },
   "file_extension": ".py",
   "mimetype": "text/x-python",
   "name": "python",
   "nbconvert_exporter": "python",
   "pygments_lexer": "ipython3",
   "version": "3.13.2"
  }
 },
 "nbformat": 4,
 "nbformat_minor": 2
}
